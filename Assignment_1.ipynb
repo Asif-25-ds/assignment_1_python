{
 "cells": [
  {
   "cell_type": "code",
   "execution_count": 2,
   "id": "7d280193-c422-4a1d-8df3-49ede176ad05",
   "metadata": {},
   "outputs": [
    {
     "data": {
      "text/plain": [
       "str"
      ]
     },
     "execution_count": 2,
     "metadata": {},
     "output_type": "execute_result"
    }
   ],
   "source": [
    "#answer of ques 1\n",
    "a = \"python\"\n",
    "type(a)"
   ]
  },
  {
   "cell_type": "code",
   "execution_count": 3,
   "id": "3b7d40ca-3408-497a-90fd-39e5073de0f8",
   "metadata": {},
   "outputs": [
    {
     "data": {
      "text/plain": [
       "list"
      ]
     },
     "execution_count": 3,
     "metadata": {},
     "output_type": "execute_result"
    }
   ],
   "source": [
    "a = [1,2,3,4,5]\n",
    "type(a)"
   ]
  },
  {
   "cell_type": "code",
   "execution_count": 4,
   "id": "6fadccd4-46d0-40ca-99fb-39d76efb4e6f",
   "metadata": {},
   "outputs": [
    {
     "data": {
      "text/plain": [
       "float"
      ]
     },
     "execution_count": 4,
     "metadata": {},
     "output_type": "execute_result"
    }
   ],
   "source": [
    "a = 2.56\n",
    "type(a)"
   ]
  },
  {
   "cell_type": "code",
   "execution_count": 5,
   "id": "9f28df53-6acc-41ca-9aef-97dbb6bf546c",
   "metadata": {},
   "outputs": [
    {
     "data": {
      "text/plain": [
       "tuple"
      ]
     },
     "execution_count": 5,
     "metadata": {},
     "output_type": "execute_result"
    }
   ],
   "source": [
    "a = (1,2,3,4,5)\n",
    "type(a)"
   ]
  },
  {
   "cell_type": "code",
   "execution_count": 6,
   "id": "a996d04b-4f95-465c-bb79-c8604a56c842",
   "metadata": {},
   "outputs": [],
   "source": [
    "#answer of ques-2\n",
    "#(1)string\n",
    "#(2)string\n",
    "#(3)list\n",
    "#(4)float"
   ]
  },
  {
   "cell_type": "code",
   "execution_count": 7,
   "id": "4e20fe29-53f6-4fa8-abd0-bbf87da04e65",
   "metadata": {},
   "outputs": [
    {
     "data": {
      "text/plain": [
       "1.75"
      ]
     },
     "execution_count": 7,
     "metadata": {},
     "output_type": "execute_result"
    }
   ],
   "source": [
    "#answer of ques-3\n",
    "#(/)- it is use for the true division of numbers\n",
    "#ex:-\n",
    "7/4"
   ]
  },
  {
   "cell_type": "code",
   "execution_count": 8,
   "id": "e883234d-5088-424f-b4ab-ff3b1ac79472",
   "metadata": {},
   "outputs": [
    {
     "data": {
      "text/plain": [
       "3"
      ]
     },
     "execution_count": 8,
     "metadata": {},
     "output_type": "execute_result"
    }
   ],
   "source": [
    "#(%)- it is modulo operator.it gives us remainder of division.\n",
    "#ex:-\n",
    "7%4"
   ]
  },
  {
   "cell_type": "code",
   "execution_count": 9,
   "id": "cdf07972-5777-4fb5-b80e-82bbcec8d456",
   "metadata": {},
   "outputs": [
    {
     "data": {
      "text/plain": [
       "1"
      ]
     },
     "execution_count": 9,
     "metadata": {},
     "output_type": "execute_result"
    }
   ],
   "source": [
    "#(//):- it gives us the value ,that value, the value before the decimal point in the answer of the true division between the given no.s\n",
    "#ex:-\n",
    "7//4"
   ]
  },
  {
   "cell_type": "code",
   "execution_count": 10,
   "id": "e4d8253c-8ab6-437e-b5d1-ef0ddd43b8c3",
   "metadata": {},
   "outputs": [
    {
     "data": {
      "text/plain": [
       "2401"
      ]
     },
     "execution_count": 10,
     "metadata": {},
     "output_type": "execute_result"
    }
   ],
   "source": [
    "#(**):-it is power operator.used to find the power expansion of a no.\n",
    "#ex:-\n",
    "7**4"
   ]
  },
  {
   "cell_type": "code",
   "execution_count": 11,
   "id": "15c91e4c-6c1e-4823-9eca-6af7d2ffa28a",
   "metadata": {},
   "outputs": [],
   "source": [
    "#answer of ques-4"
   ]
  },
  {
   "cell_type": "code",
   "execution_count": 17,
   "id": "12a96c4f-d5b2-4e9c-a9be-03f0ac7ca581",
   "metadata": {},
   "outputs": [
    {
     "name": "stdout",
     "output_type": "stream",
     "text": [
      "<class 'int'>\n",
      "12\n",
      "<class 'str'>\n",
      "python\n",
      "<class 'float'>\n",
      "12.89\n",
      "<class 'bool'>\n",
      "True\n",
      "<class 'bool'>\n",
      "False\n",
      "<class 'tuple'>\n",
      "(2, 3, 4)\n",
      "<class 'complex'>\n",
      "(2+5j)\n",
      "<class 'int'>\n",
      "0\n",
      "<class 'int'>\n",
      "1\n",
      "<class 'str'>\n",
      "easy\n"
     ]
    }
   ],
   "source": [
    "data = [12,\"python\",12.89,True,False,(2,3,4),2+5j,0,1,\"easy\"]\n",
    "for i in data:\n",
    "              print(type(i))\n",
    "              print(i)\n",
    "              "
   ]
  },
  {
   "cell_type": "code",
   "execution_count": 1,
   "id": "5007075d-93f0-4f08-bce6-cb4d9c9819e0",
   "metadata": {},
   "outputs": [
    {
     "name": "stdin",
     "output_type": "stream",
     "text": [
      "enter A 4\n",
      "enter B 2\n"
     ]
    },
    {
     "name": "stdout",
     "output_type": "stream",
     "text": [
      "A is divisible by B\n",
      "if A is divisible by B one time then it is divisible by B infinite times\n"
     ]
    }
   ],
   "source": [
    "#answer of ques-5\n",
    "A = int(input(\"enter A\"))\n",
    "B = int(input(\"enter B\"))\n",
    "count = 1\n",
    "while count<= 1:\n",
    "    if A%B == 0:\n",
    "        print(\"A is divisible by B\")\n",
    "        count = count + 1\n",
    "else:\n",
    "    print(\"if A is divisible by B one time then it is divisible by B infinite times\")"
   ]
  },
  {
   "cell_type": "code",
   "execution_count": 23,
   "id": "09f76287-d2e3-4d85-ac84-c36ca3e27220",
   "metadata": {},
   "outputs": [
    {
     "name": "stdout",
     "output_type": "stream",
     "text": [
      "0\n",
      "is divisible by 3\n",
      "3\n",
      "is divisible by 3\n",
      "6\n",
      "is divisible by 3\n",
      "9\n",
      "is divisible by 3\n",
      "12\n",
      "is divisible by 3\n",
      "15\n",
      "is divisible by 3\n",
      "18\n",
      "is divisible by 3\n",
      "21\n",
      "is divisible by 3\n",
      "24\n",
      "is divisible by 3\n",
      "other numbers in list are not divisible by 5\n"
     ]
    }
   ],
   "source": [
    "#answer of ques-6\n",
    "data = list(range(25))\n",
    "for i in data:\n",
    "    if i%3 == 0:\n",
    "        print(i)\n",
    "        print(\"is divisible by 3\")\n",
    "else:\n",
    "    print(\"other numbers in list are not divisible by 5\")"
   ]
  },
  {
   "cell_type": "code",
   "execution_count": 25,
   "id": "465995bf-ca21-4b86-8daa-dcc4f329c8c7",
   "metadata": {},
   "outputs": [
    {
     "data": {
      "text/plain": [
       "[99, 98, 97, 96, 95]"
      ]
     },
     "execution_count": 25,
     "metadata": {},
     "output_type": "execute_result"
    }
   ],
   "source": [
    "#answer of ques-7\n",
    "# \"mutable-datatypes\":-if we are able to assign values on a particular index in a data type then this data type is said to be mutable.\n",
    "#ex:-lists.\n",
    "marks = [90,98,97,96,95]\n",
    "marks[0] = 99\n",
    "marks"
   ]
  },
  {
   "cell_type": "code",
   "execution_count": 26,
   "id": "14d1ff3e-ea7e-4bc8-8b67-3b5877a979ae",
   "metadata": {},
   "outputs": [
    {
     "data": {
      "text/plain": [
       "'n'"
      ]
     },
     "execution_count": 26,
     "metadata": {},
     "output_type": "execute_result"
    }
   ],
   "source": [
    "# \"immutable data types\":-\n",
    "# if we are not able to assign values on a particular index in a data type then this data type is said to be immutable.\n",
    "# ex:- strings\n",
    "name = \"python\"\n",
    "name[-1]"
   ]
  },
  {
   "cell_type": "code",
   "execution_count": 27,
   "id": "cbbbcf53-9784-4a6c-90f5-b6fd7f3bf411",
   "metadata": {},
   "outputs": [
    {
     "ename": "NameError",
     "evalue": "name 'm' is not defined",
     "output_type": "error",
     "traceback": [
      "\u001b[0;31m---------------------------------------------------------------------------\u001b[0m",
      "\u001b[0;31mNameError\u001b[0m                                 Traceback (most recent call last)",
      "Cell \u001b[0;32mIn[27], line 2\u001b[0m\n\u001b[1;32m      1\u001b[0m \u001b[38;5;66;03m#but\u001b[39;00m\n\u001b[0;32m----> 2\u001b[0m name[\u001b[38;5;241m-\u001b[39m\u001b[38;5;241m1\u001b[39m] \u001b[38;5;241m=\u001b[39m \u001b[43mm\u001b[49m\n\u001b[1;32m      3\u001b[0m name\n",
      "\u001b[0;31mNameError\u001b[0m: name 'm' is not defined"
     ]
    }
   ],
   "source": [
    "#but\n",
    "name[-1] = m\n",
    "name"
   ]
  },
  {
   "cell_type": "code",
   "execution_count": null,
   "id": "e44e9d11-7e2b-451a-986c-b085c7049649",
   "metadata": {},
   "outputs": [],
   "source": []
  }
 ],
 "metadata": {
  "kernelspec": {
   "display_name": "Python 3 (ipykernel)",
   "language": "python",
   "name": "python3"
  },
  "language_info": {
   "codemirror_mode": {
    "name": "ipython",
    "version": 3
   },
   "file_extension": ".py",
   "mimetype": "text/x-python",
   "name": "python",
   "nbconvert_exporter": "python",
   "pygments_lexer": "ipython3",
   "version": "3.10.8"
  }
 },
 "nbformat": 4,
 "nbformat_minor": 5
}
